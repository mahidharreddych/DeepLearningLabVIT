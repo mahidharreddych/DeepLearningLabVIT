{
 "cells": [
  {
   "cell_type": "code",
   "execution_count": 11,
   "metadata": {},
   "outputs": [
    {
     "name": "stdout",
     "output_type": "stream",
     "text": [
      "shakesphere gave the best theatrics to the world\n"
     ]
    }
   ],
   "source": [
    "#print the give statement\n",
    "\n",
    "x = 'shakesphere gave the best theatrics to the world'\n",
    "print (x)"
   ]
  },
  {
   "cell_type": "code",
   "execution_count": 13,
   "metadata": {},
   "outputs": [
    {
     "name": "stdout",
     "output_type": "stream",
     "text": [
      "enter a statement that to be printed  ..Shakesphere gave the best theatrics to the world\n",
      "Shakesphere gave the best theatrics to the world\n"
     ]
    }
   ],
   "source": [
    "#printing a statement by tajing the input in runtime\n",
    "\n",
    "x = str(input('enter a statement that to be printed  ..'))\n",
    "print(x)"
   ]
  },
  {
   "cell_type": "code",
   "execution_count": 10,
   "metadata": {},
   "outputs": [
    {
     "name": "stdout",
     "output_type": "stream",
     "text": [
      "William Shakespeare (bapt. 26 April 1564 – 23 April 1616)was an English poet, playwright, and actor, widely regarded as the greatest writer in the English language and the world's greatest dramatist.\n",
      "He is often called England's national poet and the \"Barvon\" (or simply \"the Bard\").\n",
      "His extant works, including collaborations, consist of some 39 plays,154 sonnets, two long narrative poems, and a few other verses, some of uncertain authorship. \n",
      "His plays have been translated into every major living language and are performed more often than those of any other playwright.\n"
     ]
    }
   ],
   "source": [
    "#Go to Wikipedia and take a paragraph on shakespeare and print it\n",
    "\n",
    "x = \"\"\"William Shakespeare (bapt. 26 April 1564 – 23 April 1616)was an English poet, playwright, and actor, widely regarded as the greatest writer in the English language and the world's greatest dramatist.\n",
    "He is often called England's national poet and the \"Barvon\" (or simply \"the Bard\").\n",
    "His extant works, including collaborations, consist of some 39 plays,154 sonnets, two long narrative poems, and a few other verses, some of uncertain authorship. \n",
    "His plays have been translated into every major living language and are performed more often than those of any other playwright.\"\"\"\n",
    "print(x)"
   ]
  },
  {
   "cell_type": "code",
   "execution_count": 14,
   "metadata": {},
   "outputs": [
    {
     "name": "stdout",
     "output_type": "stream",
     "text": [
      "William Shakespeare (bapt. 26 April 1564 – 23 April 1616)was an English poet, playwright, and actor, widely regarded as the greatest writer in the English language and the world's greatest dramatist.\n",
      "He is often called England's national poet and the \"Barvon\" (or simply \"the Bard\").\n",
      "His extant works, including collaborations, consist of some 39 plays,154 sonnets, two long narrative poems, and a few other verses, some of uncertain authorship. \n",
      "His plays have been translated into every major living language and are performed more often than those of any other playwright.\n"
     ]
    }
   ],
   "source": [
    "#Go to Wikipedia and take a paragraph on shakespeare and print it by using single quotes\n",
    "\n",
    "x = '''William Shakespeare (bapt. 26 April 1564 – 23 April 1616)was an English poet, playwright, and actor, widely regarded as the greatest writer in the English language and the world's greatest dramatist.\n",
    "He is often called England's national poet and the \"Barvon\" (or simply \"the Bard\").\n",
    "His extant works, including collaborations, consist of some 39 plays,154 sonnets, two long narrative poems, and a few other verses, some of uncertain authorship. \n",
    "His plays have been translated into every major living language and are performed more often than those of any other playwright.'''\n",
    "print(x)"
   ]
  },
  {
   "cell_type": "code",
   "execution_count": 16,
   "metadata": {},
   "outputs": [
    {
     "name": "stdout",
     "output_type": "stream",
     "text": [
      "shakesphere didn't gave the best theatrics to the world\n"
     ]
    }
   ],
   "source": [
    "#print the give statement\n",
    "\n",
    "x = \"shakesphere didn't gave the best theatrics to the world\"\n",
    "print (x)"
   ]
  },
  {
   "cell_type": "code",
   "execution_count": 33,
   "metadata": {},
   "outputs": [
    {
     "name": "stdout",
     "output_type": "stream",
     "text": [
      "bali\n",
      "['hyderabad', 'chennai', 'kochi', 'bali', 'goa', 'ladakh', 'pune', 'maldives', 'toronto', 'barcelona', 'south korea']\n",
      "south korea\n"
     ]
    }
   ],
   "source": [
    "#adding a sting to list\n",
    "c = ['hyderabad', 'chennai', 'kochi', 'bali', 'goa', 'ladakh', 'pune', 'maldives', 'toronto', 'barcelona']\n",
    "print(c[3])\n",
    "c.append('south korea')\n",
    "print(c)\n",
    "print(c[10])"
   ]
  },
  {
   "cell_type": "code",
   "execution_count": 5,
   "metadata": {},
   "outputs": [
    {
     "name": "stdout",
     "output_type": "stream",
     "text": [
      "italian\n",
      "{'kohli': 'india', 'maxwell': 'australia', 'brainlara': 'westindies', 'valentino rossi': 'italian', 'marquez': 'spanish', 'lewishamilton': 'uk', 'jwalagutta': 'india'}\n"
     ]
    }
   ],
   "source": [
    "#making a dictionary\n",
    "sportspersons = {\"kohli\":\"india\", \"maxwell\":\"australia\", \"brainlara\":\"westindies\" , \"valentino rossi\":\"italian\", \"marquez\":\"spanish\", \\\n",
    "                \"lewishamilton\":\"uk\"}\n",
    "print(sportspersons[\"valentino rossi\"])\n",
    "sportspersons[\"jwalagutta\"] = \"india\"\n",
    "print(sportspersons)"
   ]
  },
  {
   "cell_type": "code",
   "execution_count": null,
   "metadata": {},
   "outputs": [],
   "source": []
  }
 ],
 "metadata": {
  "kernelspec": {
   "display_name": "Python 3",
   "language": "python",
   "name": "python3"
  },
  "language_info": {
   "codemirror_mode": {
    "name": "ipython",
    "version": 3
   },
   "file_extension": ".py",
   "mimetype": "text/x-python",
   "name": "python",
   "nbconvert_exporter": "python",
   "pygments_lexer": "ipython3",
   "version": "3.6.5"
  }
 },
 "nbformat": 4,
 "nbformat_minor": 2
}
